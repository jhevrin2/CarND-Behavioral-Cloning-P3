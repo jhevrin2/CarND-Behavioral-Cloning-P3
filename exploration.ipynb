{
 "cells": [
  {
   "cell_type": "code",
   "execution_count": 45,
   "metadata": {},
   "outputs": [],
   "source": [
    "import os\n",
    "import csv\n",
    "import cv2\n",
    "import numpy as np\n",
    "import sklearn\n",
    "from sklearn.utils import shuffle\n",
    "from keras.models import Sequential\n",
    "from keras.optimizers import Adam\n",
    "from keras.callbacks import ModelCheckpoint\n",
    "from keras.layers import Lambda, Convolution2D, Conv2D, MaxPooling2D, Dropout, Dense, Flatten, Cropping2D\n",
    "\n",
    "samples = []\n",
    "with open('/Users/mwk1/Desktop/laps/driving_log.csv') as csvfile:\n",
    "    reader = csv.reader(csvfile)\n",
    "    for line in reader:\n",
    "        samples.append(line)\n",
    "        \n",
    "with open('/Users/mwk1/Desktop/corrections/driving_log.csv') as csvfile:\n",
    "    reader = csv.reader(csvfile)\n",
    "    for line in reader:\n",
    "        samples.append(line)\n",
    "\n",
    "from sklearn.model_selection import train_test_split\n",
    "train_samples, validation_samples = train_test_split(samples, test_size=0.2)"
   ]
  },
  {
   "cell_type": "code",
   "execution_count": 46,
   "metadata": {},
   "outputs": [],
   "source": [
    "def generator(samples, batch_size=32):\n",
    "    num_samples = len(samples)\n",
    "    while 1:\n",
    "        shuffle(samples)\n",
    "        for offset in range(0, num_samples, batch_size):\n",
    "            batch_samples = samples[offset:offset+batch_size]\n",
    "\n",
    "            images = []\n",
    "            angles = []\n",
    "            for batch_sample in batch_samples:\n",
    "                center, left, right, center_angle, left_angle, right_angle = images_and_angles(batch_sample)\n",
    "                images.append(center)\n",
    "                images.append(left)\n",
    "                images.append(right)\n",
    "                images.append(np.fliplr(center))\n",
    "                images.append(np.fliplr(left))\n",
    "                images.append(np.fliplr(right))\n",
    "                angles.append(center_angle)\n",
    "                angles.append(left_angle)\n",
    "                angles.append(right_angle)\n",
    "                angles.append(-center_angle)\n",
    "                angles.append(-left_angle)\n",
    "                angles.append(-right_angle)\n",
    "            X_train = np.array(images)\n",
    "            y_train = np.array(angles)\n",
    "            yield shuffle(X_train, y_train)\n",
    "\n",
    "def images_and_angles(batch_sample, correction = 0.25):\n",
    "    center = cv2.imread(batch_sample[0])\n",
    "    left = cv2.imread(batch_sample[1])\n",
    "    right = cv2.imread(batch_sample[2])\n",
    "    \n",
    "    center_angle = float(batch_sample[3])\n",
    "    left_angle = float(batch_sample[3]) + correction\n",
    "    right_angle = float(batch_sample[3]) - correction\n",
    "\n",
    "    return center, left, right, center_angle, left_angle, right_angle"
   ]
  },
  {
   "cell_type": "code",
   "execution_count": 47,
   "metadata": {},
   "outputs": [],
   "source": [
    "train_generator = generator(train_samples, batch_size=32)\n",
    "validation_generator = generator(validation_samples, batch_size=32)"
   ]
  },
  {
   "cell_type": "code",
   "execution_count": 48,
   "metadata": {},
   "outputs": [],
   "source": [
    "model = Sequential()\n",
    "model.add(Lambda(lambda x: (x / 255.0) - 0.5, input_shape=(160, 320, 3)))\n",
    "model.add(Cropping2D(cropping=((70,25),(0,0))))\n",
    "model.add(Convolution2D(24,5,5,border_mode='valid', activation='relu', subsample=(2,2)))\n",
    "model.add(Convolution2D(36,5,5,border_mode='valid', activation='relu', subsample=(2,2)))\n",
    "model.add(Convolution2D(48,5,5,border_mode='valid', activation='relu', subsample=(2,2)))\n",
    "model.add(Convolution2D(64,3,3,border_mode='valid', activation='relu', subsample=(1,1)))\n",
    "model.add(Convolution2D(64,3,3,border_mode='valid', activation='relu', subsample=(1,1)))\n",
    "model.add(Flatten())\n",
    "model.add(Dense(1164, activation='relu'))\n",
    "model.add(Dense(100, activation='relu'))\n",
    "model.add(Dense(50, activation='relu'))\n",
    "model.add(Dense(10, activation='relu'))\n",
    "model.add(Dense(1, activation='tanh'))\n",
    "model.compile(loss='mse', optimizer='adam')"
   ]
  },
  {
   "cell_type": "code",
   "execution_count": 49,
   "metadata": {},
   "outputs": [
    {
     "name": "stdout",
     "output_type": "stream",
     "text": [
      "Epoch 1/10\n",
      "5952/6064 [============================>.] - ETA: 1s - loss: 0.0424"
     ]
    },
    {
     "name": "stderr",
     "output_type": "stream",
     "text": [
      "/Users/mwk1/miniconda3/envs/carnd-term1/lib/python3.5/site-packages/keras/engine/training.py:1569: UserWarning: Epoch comprised more than `samples_per_epoch` samples, which might affect learning results. Set `samples_per_epoch` correctly to avoid this warning.\n",
      "  warnings.warn('Epoch comprised more than '\n"
     ]
    },
    {
     "name": "stdout",
     "output_type": "stream",
     "text": [
      "6144/6064 [==============================] - 74s - loss: 0.0418 - val_loss: 0.0280\n",
      "Epoch 2/10\n",
      "6144/6064 [==============================] - 72s - loss: 0.0283 - val_loss: 0.0250\n",
      "Epoch 3/10\n",
      "6144/6064 [==============================] - 73s - loss: 0.0256 - val_loss: 0.0232\n",
      "Epoch 4/10\n",
      "6144/6064 [==============================] - 69s - loss: 0.0224 - val_loss: 0.0199\n",
      "Epoch 5/10\n",
      "6144/6064 [==============================] - 69s - loss: 0.0194 - val_loss: 0.0212\n",
      "Epoch 6/10\n",
      "6240/6064 [==============================] - 72s - loss: 0.0201 - val_loss: 0.0211\n",
      "Epoch 7/10\n",
      "6144/6064 [==============================] - 70s - loss: 0.0194 - val_loss: 0.0197\n",
      "Epoch 8/10\n",
      "6144/6064 [==============================] - 72s - loss: 0.0206 - val_loss: 0.0216\n",
      "Epoch 9/10\n",
      "6144/6064 [==============================] - 72s - loss: 0.0211 - val_loss: 0.0184\n",
      "Epoch 10/10\n",
      "6144/6064 [==============================] - 69s - loss: 0.0181 - val_loss: 0.0172\n"
     ]
    },
    {
     "data": {
      "text/plain": [
       "<keras.callbacks.History at 0x120a4a2b0>"
      ]
     },
     "execution_count": 49,
     "metadata": {},
     "output_type": "execute_result"
    }
   ],
   "source": [
    "model.fit_generator(train_generator, samples_per_epoch=len(train_samples), \n",
    "                    validation_data=validation_generator,\n",
    "                    nb_val_samples=len(validation_samples), nb_epoch=10)"
   ]
  },
  {
   "cell_type": "code",
   "execution_count": 50,
   "metadata": {},
   "outputs": [],
   "source": [
    "model.save('more-epochs.h5')"
   ]
  },
  {
   "cell_type": "code",
   "execution_count": null,
   "metadata": {},
   "outputs": [],
   "source": []
  }
 ],
 "metadata": {
  "kernelspec": {
   "display_name": "Python 3",
   "language": "python",
   "name": "python3"
  },
  "language_info": {
   "codemirror_mode": {
    "name": "ipython",
    "version": 3
   },
   "file_extension": ".py",
   "mimetype": "text/x-python",
   "name": "python",
   "nbconvert_exporter": "python",
   "pygments_lexer": "ipython3",
   "version": "3.5.2"
  },
  "widgets": {
   "state": {},
   "version": "1.1.2"
  }
 },
 "nbformat": 4,
 "nbformat_minor": 2
}
